{
 "cells": [
  {
   "cell_type": "markdown",
   "metadata": {},
   "source": [
    "### YELP Reviews Analysis for Business Improvement\n"
   ]
  },
  {
   "cell_type": "markdown",
   "metadata": {},
   "source": [
    "### setup\n"
   ]
  },
  {
   "cell_type": "code",
   "execution_count": 1,
   "metadata": {},
   "outputs": [],
   "source": [
    "import numpy as np\n",
    "import pandas as pd \n",
    "import matplotlib.pyplot as plt\n",
    "import seaborn as sns\n",
    "from sklearn.feature_extraction.text import TfidfVectorizer\n",
    "from nltk.stem.snowball import SnowballStemmer\n",
    "from nltk.tokenize import RegexpTokenizer\n",
    "from nltk.tokenize import word_tokenize\n",
    "from sklearn.cluster import KMeans\n",
    "import textblob as tb"
   ]
  },
  {
   "cell_type": "markdown",
   "metadata": {},
   "source": [
    "Read Reviews and Business Dataset"
   ]
  },
  {
   "cell_type": "code",
   "execution_count": 4,
   "metadata": {},
   "outputs": [],
   "source": [
    "review_df = pd.read_csv('../Dataset/yelp_review.csv')\n",
    "business_df = pd.read_csv('../Dataset/yelp_business.csv')"
   ]
  },
  {
   "cell_type": "code",
   "execution_count": 5,
   "metadata": {},
   "outputs": [
    {
     "name": "stdout",
     "output_type": "stream",
     "text": [
      "reviews dataset: Index(['review_id', 'user_id', 'business_id', 'stars', 'date', 'text',\n",
      "       'useful', 'funny', 'cool'],\n",
      "      dtype='object')\n",
      "                review_id                 user_id             business_id  \\\n",
      "0  vkVSCC7xljjrAI4UGfnKEQ  bv2nCi5Qv5vroFiqKGopiw  AEx2SYEUJmTxVVB18LlCwA   \n",
      "1  n6QzIUObkYshz4dz2QRJTw  bv2nCi5Qv5vroFiqKGopiw  VR6GpWIda3SfvPC-lg9H3w   \n",
      "2  MV3CcKScW05u5LVfF6ok0g  bv2nCi5Qv5vroFiqKGopiw  CKC0-MOWMqoeWf6s-szl8g   \n",
      "3  IXvOzsEMYtiJI0CARmj77Q  bv2nCi5Qv5vroFiqKGopiw  ACFtxLv8pGrrxMm6EgjreA   \n",
      "4  L_9BTb55X0GDtThi6GlZ6w  bv2nCi5Qv5vroFiqKGopiw  s2I_Ni76bjJNK9yG60iD-Q   \n",
      "\n",
      "   stars        date                                               text  \\\n",
      "0      5  2016-05-28  Super simple place but amazing nonetheless. It...   \n",
      "1      5  2016-05-28  Small unassuming place that changes their menu...   \n",
      "2      5  2016-05-28  Lester's is located in a beautiful neighborhoo...   \n",
      "3      4  2016-05-28  Love coming here. Yes the place always needs t...   \n",
      "4      4  2016-05-28  Had their chocolate almond croissant and it wa...   \n",
      "\n",
      "   useful  funny  cool  \n",
      "0       0      0     0  \n",
      "1       0      0     0  \n",
      "2       0      0     0  \n",
      "3       0      0     0  \n",
      "4       0      0     0  \n"
     ]
    }
   ],
   "source": [
    "print(\"reviews dataset:\", review_df.columns )\n",
    "print(review_df.head())\n"
   ]
  },
  {
   "cell_type": "code",
   "execution_count": 6,
   "metadata": {},
   "outputs": [
    {
     "name": "stdout",
     "output_type": "stream",
     "text": [
      "business dataset: Index(['business_id', 'name', 'neighborhood', 'address', 'city', 'state',\n",
      "       'postal_code', 'latitude', 'longitude', 'stars', 'review_count',\n",
      "       'is_open', 'categories'],\n",
      "      dtype='object')\n",
      "              business_id                        name neighborhood  \\\n",
      "0  FYWN1wneV18bWNgQjJ2GNg          \"Dental by Design\"          NaN   \n",
      "1  He-G7vWjzVUysIKrfNbPUQ       \"Stephen Szabo Salon\"          NaN   \n",
      "2  KQPW8lFf1y5BT2MxiSZ3QA     \"Western Motor Vehicle\"          NaN   \n",
      "3  8DShNS-LuFqpEWIp0HxijA          \"Sports Authority\"          NaN   \n",
      "4  PfOCPjBrlQAnz__NXj9h_w  \"Brick House Tavern + Tap\"          NaN   \n",
      "\n",
      "                            address            city state postal_code  \\\n",
      "0        \"4855 E Warner Rd, Ste B9\"       Ahwatukee    AZ       85044   \n",
      "1              \"3101 Washington Rd\"        McMurray    PA       15317   \n",
      "2          \"6025 N 27th Ave, Ste 1\"         Phoenix    AZ       85017   \n",
      "3  \"5000 Arizona Mills Cr, Ste 435\"           Tempe    AZ       85282   \n",
      "4                    \"581 Howe Ave\"  Cuyahoga Falls    OH       44221   \n",
      "\n",
      "    latitude   longitude  stars  review_count  is_open  \\\n",
      "0  33.330690 -111.978599    4.0            22        1   \n",
      "1  40.291685  -80.104900    3.0            11        1   \n",
      "2  33.524903 -112.115310    1.5            18        1   \n",
      "3  33.383147 -111.964725    3.0             9        0   \n",
      "4  41.119535  -81.475690    3.5           116        1   \n",
      "\n",
      "                                          categories  \n",
      "0  Dentists;General Dentistry;Health & Medical;Or...  \n",
      "1  Hair Stylists;Hair Salons;Men's Hair Salons;Bl...  \n",
      "2  Departments of Motor Vehicles;Public Services ...  \n",
      "3                            Sporting Goods;Shopping  \n",
      "4  American (New);Nightlife;Bars;Sandwiches;Ameri...  \n"
     ]
    }
   ],
   "source": [
    "print(\"business dataset:\", business_df.columns)\n",
    "print(business_df.head())"
   ]
  },
  {
   "cell_type": "markdown",
   "metadata": {},
   "source": [
    "### PreProcess"
   ]
  },
  {
   "cell_type": "markdown",
   "metadata": {},
   "source": [
    "Fetch name of the business is business_name_df"
   ]
  },
  {
   "cell_type": "code",
   "execution_count": 7,
   "metadata": {},
   "outputs": [
    {
     "name": "stdout",
     "output_type": "stream",
     "text": [
      "              business_id                        name\n",
      "0  FYWN1wneV18bWNgQjJ2GNg          \"Dental by Design\"\n",
      "1  He-G7vWjzVUysIKrfNbPUQ       \"Stephen Szabo Salon\"\n",
      "2  KQPW8lFf1y5BT2MxiSZ3QA     \"Western Motor Vehicle\"\n",
      "3  8DShNS-LuFqpEWIp0HxijA          \"Sports Authority\"\n",
      "4  PfOCPjBrlQAnz__NXj9h_w  \"Brick House Tavern + Tap\"\n"
     ]
    }
   ],
   "source": [
    "name_df = business_df[['business_id', 'name']]\n",
    "print(name_df.head(5))"
   ]
  },
  {
   "cell_type": "markdown",
   "metadata": {},
   "source": [
    "Since we have business_id( unique ) in both the df's , let's merge it."
   ]
  },
  {
   "cell_type": "code",
   "execution_count": 8,
   "metadata": {},
   "outputs": [
    {
     "data": {
      "text/html": [
       "<div>\n",
       "<style scoped>\n",
       "    .dataframe tbody tr th:only-of-type {\n",
       "        vertical-align: middle;\n",
       "    }\n",
       "\n",
       "    .dataframe tbody tr th {\n",
       "        vertical-align: top;\n",
       "    }\n",
       "\n",
       "    .dataframe thead th {\n",
       "        text-align: right;\n",
       "    }\n",
       "</style>\n",
       "<table border=\"1\" class=\"dataframe\">\n",
       "  <thead>\n",
       "    <tr style=\"text-align: right;\">\n",
       "      <th></th>\n",
       "      <th>review_id</th>\n",
       "      <th>user_id</th>\n",
       "      <th>business_id</th>\n",
       "      <th>stars</th>\n",
       "      <th>date</th>\n",
       "      <th>text</th>\n",
       "      <th>useful</th>\n",
       "      <th>funny</th>\n",
       "      <th>cool</th>\n",
       "      <th>name</th>\n",
       "    </tr>\n",
       "  </thead>\n",
       "  <tbody>\n",
       "    <tr>\n",
       "      <th>0</th>\n",
       "      <td>vkVSCC7xljjrAI4UGfnKEQ</td>\n",
       "      <td>bv2nCi5Qv5vroFiqKGopiw</td>\n",
       "      <td>AEx2SYEUJmTxVVB18LlCwA</td>\n",
       "      <td>5</td>\n",
       "      <td>2016-05-28</td>\n",
       "      <td>Super simple place but amazing nonetheless. It...</td>\n",
       "      <td>0</td>\n",
       "      <td>0</td>\n",
       "      <td>0</td>\n",
       "      <td>\"Wilensky's\"</td>\n",
       "    </tr>\n",
       "    <tr>\n",
       "      <th>1</th>\n",
       "      <td>n6QzIUObkYshz4dz2QRJTw</td>\n",
       "      <td>bv2nCi5Qv5vroFiqKGopiw</td>\n",
       "      <td>VR6GpWIda3SfvPC-lg9H3w</td>\n",
       "      <td>5</td>\n",
       "      <td>2016-05-28</td>\n",
       "      <td>Small unassuming place that changes their menu...</td>\n",
       "      <td>0</td>\n",
       "      <td>0</td>\n",
       "      <td>0</td>\n",
       "      <td>\"Tuck Shop\"</td>\n",
       "    </tr>\n",
       "    <tr>\n",
       "      <th>2</th>\n",
       "      <td>MV3CcKScW05u5LVfF6ok0g</td>\n",
       "      <td>bv2nCi5Qv5vroFiqKGopiw</td>\n",
       "      <td>CKC0-MOWMqoeWf6s-szl8g</td>\n",
       "      <td>5</td>\n",
       "      <td>2016-05-28</td>\n",
       "      <td>Lester's is located in a beautiful neighborhoo...</td>\n",
       "      <td>0</td>\n",
       "      <td>0</td>\n",
       "      <td>0</td>\n",
       "      <td>\"Lester's Deli\"</td>\n",
       "    </tr>\n",
       "    <tr>\n",
       "      <th>3</th>\n",
       "      <td>IXvOzsEMYtiJI0CARmj77Q</td>\n",
       "      <td>bv2nCi5Qv5vroFiqKGopiw</td>\n",
       "      <td>ACFtxLv8pGrrxMm6EgjreA</td>\n",
       "      <td>4</td>\n",
       "      <td>2016-05-28</td>\n",
       "      <td>Love coming here. Yes the place always needs t...</td>\n",
       "      <td>0</td>\n",
       "      <td>0</td>\n",
       "      <td>0</td>\n",
       "      <td>\"Five Guys\"</td>\n",
       "    </tr>\n",
       "    <tr>\n",
       "      <th>4</th>\n",
       "      <td>L_9BTb55X0GDtThi6GlZ6w</td>\n",
       "      <td>bv2nCi5Qv5vroFiqKGopiw</td>\n",
       "      <td>s2I_Ni76bjJNK9yG60iD-Q</td>\n",
       "      <td>4</td>\n",
       "      <td>2016-05-28</td>\n",
       "      <td>Had their chocolate almond croissant and it wa...</td>\n",
       "      <td>0</td>\n",
       "      <td>0</td>\n",
       "      <td>0</td>\n",
       "      <td>\"Maison Christian Faure\"</td>\n",
       "    </tr>\n",
       "  </tbody>\n",
       "</table>\n",
       "</div>"
      ],
      "text/plain": [
       "                review_id                 user_id             business_id  \\\n",
       "0  vkVSCC7xljjrAI4UGfnKEQ  bv2nCi5Qv5vroFiqKGopiw  AEx2SYEUJmTxVVB18LlCwA   \n",
       "1  n6QzIUObkYshz4dz2QRJTw  bv2nCi5Qv5vroFiqKGopiw  VR6GpWIda3SfvPC-lg9H3w   \n",
       "2  MV3CcKScW05u5LVfF6ok0g  bv2nCi5Qv5vroFiqKGopiw  CKC0-MOWMqoeWf6s-szl8g   \n",
       "3  IXvOzsEMYtiJI0CARmj77Q  bv2nCi5Qv5vroFiqKGopiw  ACFtxLv8pGrrxMm6EgjreA   \n",
       "4  L_9BTb55X0GDtThi6GlZ6w  bv2nCi5Qv5vroFiqKGopiw  s2I_Ni76bjJNK9yG60iD-Q   \n",
       "\n",
       "   stars        date                                               text  \\\n",
       "0      5  2016-05-28  Super simple place but amazing nonetheless. It...   \n",
       "1      5  2016-05-28  Small unassuming place that changes their menu...   \n",
       "2      5  2016-05-28  Lester's is located in a beautiful neighborhoo...   \n",
       "3      4  2016-05-28  Love coming here. Yes the place always needs t...   \n",
       "4      4  2016-05-28  Had their chocolate almond croissant and it wa...   \n",
       "\n",
       "   useful  funny  cool                      name  \n",
       "0       0      0     0              \"Wilensky's\"  \n",
       "1       0      0     0               \"Tuck Shop\"  \n",
       "2       0      0     0           \"Lester's Deli\"  \n",
       "3       0      0     0               \"Five Guys\"  \n",
       "4       0      0     0  \"Maison Christian Faure\"  "
      ]
     },
     "execution_count": 8,
     "metadata": {},
     "output_type": "execute_result"
    }
   ],
   "source": [
    "review_df = pd.merge(review_df, name_df, how = 'left', left_on = 'business_id', right_on = 'business_id')\n",
    "review_df.head()"
   ]
  },
  {
   "cell_type": "code",
   "execution_count": 9,
   "metadata": {},
   "outputs": [],
   "source": [
    "#Stroing in to csv\n",
    "#review_df.head(1000).to_csv('business_reviews.csv', encoding='utf-8')"
   ]
  },
  {
   "cell_type": "markdown",
   "metadata": {},
   "source": [
    "Word Stemming\n"
   ]
  },
  {
   "cell_type": "code",
   "execution_count": 10,
   "metadata": {},
   "outputs": [
    {
     "data": {
      "text/plain": [
       "'\\ni.e. Form a tree of words with the same meaning, where root would be the main keyword. \\nlook (root)\\n/          looking    looked   \\n'"
      ]
     },
     "execution_count": 10,
     "metadata": {},
     "output_type": "execute_result"
    }
   ],
   "source": [
    "\"\"\"\n",
    "i.e. Form a tree of words with the same meaning, where root would be the main keyword. \n",
    "look (root)\n",
    "/          \\\n",
    "looking    looked   \n",
    "\"\"\""
   ]
  },
  {
   "cell_type": "markdown",
   "metadata": {},
   "source": [
    "Tokeninze"
   ]
  },
  {
   "cell_type": "code",
   "execution_count": 11,
   "metadata": {},
   "outputs": [
    {
     "data": {
      "text/plain": [
       "\"\\nalso tokenize the tokens so we're only getting words, including those with apostrophes. Below is a function to pass through as an argument in the TfidfVectorizer to override the tokenizing and to add the stemming.\\n\""
      ]
     },
     "execution_count": 11,
     "metadata": {},
     "output_type": "execute_result"
    }
   ],
   "source": [
    "\"\"\"\n",
    "also tokenize the tokens so we're only getting words, including those with apostrophes. Below is a function to pass through as an argument in the TfidfVectorizer to override the tokenizing and to add the stemming.\n",
    "\"\"\""
   ]
  },
  {
   "cell_type": "code",
   "execution_count": 12,
   "metadata": {},
   "outputs": [],
   "source": [
    "snowball = SnowballStemmer('english')\n",
    "tokenizer = RegexpTokenizer(r'[a-zA-Z\\']+')\n",
    "\n",
    "def tokenize(text):\n",
    "    return [snowball.stem(word) for word in tokenizer.tokenize(text.lower())]"
   ]
  },
  {
   "cell_type": "markdown",
   "metadata": {},
   "source": [
    "vectorize the words of the corpus "
   ]
  },
  {
   "cell_type": "code",
   "execution_count": 13,
   "metadata": {},
   "outputs": [
    {
     "data": {
      "text/plain": [
       "' \\nPutiing the same meaning words in one vector\\n(look, looked, looking)\\n'"
      ]
     },
     "execution_count": 13,
     "metadata": {},
     "output_type": "execute_result"
    }
   ],
   "source": [
    "\"\"\" \n",
    "Putiing the same meaning words in one vector\n",
    "(look, looked, looking)\n",
    "\"\"\""
   ]
  },
  {
   "cell_type": "code",
   "execution_count": 14,
   "metadata": {},
   "outputs": [],
   "source": [
    "#this function returns tfidf matrix\n",
    "def vectorize_reviews(reviews):\n",
    "    vectorizer = TfidfVectorizer(stop_words = 'english', tokenizer = tokenize, max_features = 1000)\n",
    "    X = vectorizer.fit_transform(reviews)\n",
    "    words = vectorizer.get_feature_names()\n",
    "    return X, words"
   ]
  },
  {
   "cell_type": "markdown",
   "metadata": {},
   "source": [
    "### Each cluster that kMeans finds is a general topic of the reviews as a whole and is represented by words or groups of words. \n"
   ]
  },
  {
   "cell_type": "markdown",
   "metadata": {},
   "source": [
    "Each dimension in the cluster center coordinates is the relative frequency for a word in that cluster. "
   ]
  },
  {
   "cell_type": "markdown",
   "metadata": {},
   "source": [
    "We can find the indices of the words with highest frequency in each cluster and these indices correspond to their respective word in the array of tokens."
   ]
  },
  {
   "cell_type": "markdown",
   "metadata": {},
   "source": [
    " That way we can take a look at the words that represent the clusters the most and get an idea of what the latent topics are."
   ]
  },
  {
   "cell_type": "code",
   "execution_count": 15,
   "metadata": {},
   "outputs": [],
   "source": [
    "def print_clusters(company_id, K = 8, num_words = 10):\n",
    "    company_df = review_df[review_df['business_id'] == company_id]\n",
    "    company_name = company_df['name'].unique()[0]\n",
    "    reviews = company_df['text'].values\n",
    "    X, words = vectorize_reviews(reviews)\n",
    "    \n",
    "    kmeans = KMeans(n_clusters = K)\n",
    "    kmeans.fit(X)\n",
    "    \n",
    "    common_words = kmeans.cluster_centers_.argsort()[:,-1:-num_words-1:-1]\n",
    "    print('Groups of ' + str(num_words) + ' words typically used together in reviews for ' + \\\n",
    "          company_name)\n",
    "    for num, centroid in enumerate(common_words):\n",
    "        print(str(num) + ' : ' + ', '.join(words[word] for word in centroid))"
   ]
  },
  {
   "cell_type": "markdown",
   "metadata": {},
   "source": [
    "#total number of unique business\n"
   ]
  },
  {
   "cell_type": "code",
   "execution_count": 16,
   "metadata": {},
   "outputs": [
    {
     "name": "stdout",
     "output_type": "stream",
     "text": [
      "<bound method Series.unique of 0          AEx2SYEUJmTxVVB18LlCwA\n",
      "1          VR6GpWIda3SfvPC-lg9H3w\n",
      "2          CKC0-MOWMqoeWf6s-szl8g\n",
      "3          ACFtxLv8pGrrxMm6EgjreA\n",
      "4          s2I_Ni76bjJNK9yG60iD-Q\n",
      "                    ...          \n",
      "5261663    Ngk84Ax1tXgpoJFEGxot3w\n",
      "5261664    pOEL97ld-FJMKO8Ki8JmYg\n",
      "5261665    5ubokMNw8qfbX2WtxgJG1Q\n",
      "5261666    EO3i5kTUG7_S2OIQ23sdSA\n",
      "5261667    HloEEXm_QzEpycuwA_RtQA\n",
      "Name: business_id, Length: 5261668, dtype: object>\n"
     ]
    }
   ],
   "source": [
    "print(review_df['business_id'].unique)"
   ]
  },
  {
   "cell_type": "code",
   "execution_count": 17,
   "metadata": {},
   "outputs": [
    {
     "name": "stdout",
     "output_type": "stream",
     "text": [
      "0    4JNXUYY8wbaaDmk3BPzlWw\n",
      "dtype: object\n"
     ]
    }
   ],
   "source": [
    "most_reviewed_business = review_df['business_id'].mode()\n",
    "print(most_reviewed_business)\n"
   ]
  },
  {
   "cell_type": "code",
   "execution_count": 18,
   "metadata": {},
   "outputs": [],
   "source": [
    "company_df = review_df[review_df['business_id'] == \"4JNXUYY8wbaaDmk3BPzlWw\"]\n",
    "company_name = company_df['name'].unique()[0]\n"
   ]
  },
  {
   "cell_type": "code",
   "execution_count": 19,
   "metadata": {},
   "outputs": [
    {
     "name": "stdout",
     "output_type": "stream",
     "text": [
      "\"Mon Ami Gabi\"\n"
     ]
    }
   ],
   "source": [
    "print(company_name)"
   ]
  },
  {
   "cell_type": "markdown",
   "metadata": {},
   "source": [
    "### Let's work on mostly reviewed business \"Mon Ami Gabi\""
   ]
  },
  {
   "cell_type": "code",
   "execution_count": 20,
   "metadata": {},
   "outputs": [
    {
     "data": {
      "text/plain": [
       "<AxesSubplot: xlabel='stars', ylabel='count'>"
      ]
     },
     "execution_count": 20,
     "metadata": {},
     "output_type": "execute_result"
    },
    {
     "data": {
      "image/png": "[encoded data removed]",
      "text/plain": [
       "<Figure size 432x288 with 1 Axes>"
      ]
     },
     "metadata": {
      "needs_background": "light"
     },
     "output_type": "display_data"
    }
   ],
   "source": [
    "bus_id = '4JNXUYY8wbaaDmk3BPzlWw'\n",
    "company_df = review_df[review_df['business_id'] == bus_id]\n",
    "sns.countplot(x = company_df['stars'])"
   ]
  },
  {
   "cell_type": "markdown",
   "metadata": {},
   "source": [
    "Randomly choosing k = 5 and let's take top 12 words"
   ]
  },
  {
   "cell_type": "markdown",
   "metadata": {},
   "source": [
    "### Groups of 12 words typically used together in reviews for \"Mon Ami Gabi\""
   ]
  },
  {
   "cell_type": "code",
   "execution_count": 21,
   "metadata": {},
   "outputs": [
    {
     "name": "stderr",
     "output_type": "stream",
     "text": [
      "/Users/grishptl/opt/anaconda3/lib/python3.9/site-packages/sklearn/feature_extraction/text.py:404: UserWarning: Your stop_words may be inconsistent with your preprocessing. Tokenizing the stop words generated tokens ['abov', 'afterward', 'alon', 'alreadi', 'alway', 'ani', 'anoth', 'anyon', 'anyth', 'anywher', 'becam', 'becaus', 'becom', 'befor', 'besid', 'cri', 'describ', 'dure', 'els', 'elsewher', 'empti', 'everi', 'everyon', 'everyth', 'everywher', 'fifti', 'forti', 'henc', 'hereaft', 'herebi', 'howev', 'hundr', 'inde', 'mani', 'meanwhil', 'moreov', 'nobodi', 'noon', 'noth', 'nowher', 'onc', 'onli', 'otherwis', 'ourselv', 'perhap', 'pleas', 'sever', 'sinc', 'sincer', 'sixti', 'someon', 'someth', 'sometim', 'somewher', 'themselv', 'thenc', 'thereaft', 'therebi', 'therefor', 'togeth', 'twelv', 'twenti', 'veri', 'whatev', 'whenc', 'whenev', 'wherea', 'whereaft', 'wherebi', 'wherev', 'whi', 'yourselv'] not in stop_words.\n",
      "  warnings.warn(\n",
      "/Users/grishptl/opt/anaconda3/lib/python3.9/site-packages/sklearn/utils/deprecation.py:87: FutureWarning: Function get_feature_names is deprecated; get_feature_names is deprecated in 1.0 and will be removed in 1.2. Please use get_feature_names_out instead.\n",
      "  warnings.warn(msg, category=FutureWarning)\n"
     ]
    },
    {
     "name": "stdout",
     "output_type": "stream",
     "text": [
      "Groups of 12 words typically used together in reviews for \"Mon Ami Gabi\"\n",
      "0 : great, bellagio, fountain, view, food, watch, patio, outsid, place, sit, strip, peopl\n",
      "1 : breakfast, egg, benedict, toast, hash, waffl, coffe, good, great, brunch, crepe, place\n",
      "2 : mon, ami, gabi, vega, restaur, great, time, food, steak, french, good, place\n",
      "3 : food, great, servic, good, place, veri, vega, time, restaur, price, excel, steak\n",
      "4 : steak, order, good, veri, like, french, soup, realli, bread, frite, onion, fri\n"
     ]
    }
   ],
   "source": [
    "print_clusters(bus_id, K = 5, num_words = 12)\n"
   ]
  },
  {
   "cell_type": "markdown",
   "metadata": {},
   "source": [
    "Let's also add ngrams to understand meaning better"
   ]
  },
  {
   "cell_type": "markdown",
   "metadata": {},
   "source": [
    "### TFIDF Vectorizing and saving file to csv"
   ]
  },
  {
   "cell_type": "code",
   "execution_count": 22,
   "metadata": {},
   "outputs": [],
   "source": [
    "def save_tfidf_file(x_data, y_columns):\n",
    "    vectorizer = TfidfVectorizer(stop_words = 'english', tokenizer = tokenize, \\\n",
    "                        min_df = 0.0025, max_df = 0.05, max_features = 1000, ngram_range = (1, 3))\n",
    "    count_array = x_data.toarray()\n",
    "    df = pd.DataFrame(data=count_array,columns = y_columns)\n",
    "    df.to_csv(\"../Dataset/vectorizer_output.csv.gz\", sep='\\t', compression='gzip')\n",
    "    print(\"vectorizer output file generated\")\n"
   ]
  },
  {
   "cell_type": "code",
   "execution_count": 23,
   "metadata": {},
   "outputs": [],
   "source": [
    "#Unigram = 1, Bigram= 2, ...ngram\n",
    "#to understand meaning in token of reviews\n",
    "def vectorize_reviews2(reviews):\n",
    "    vectorizer = TfidfVectorizer(stop_words = 'english', tokenizer = tokenize, \\\n",
    "                        min_df = 0.0025, max_df = 0.05, max_features = 1000, ngram_range = (1, 3))\n",
    "    X = vectorizer.fit_transform(reviews)\n",
    "    words = vectorizer.get_feature_names()\n",
    "    save_tfidf_file(x_data=X, y_columns = words)\n",
    "    return X, words"
   ]
  },
  {
   "cell_type": "code",
   "execution_count": 24,
   "metadata": {},
   "outputs": [],
   "source": [
    "def print_clusters2(company_id, K = 8, num_words = 10):\n",
    "    company_df = review_df[review_df['business_id'] == company_id]\n",
    "    company_name = company_df['name'].unique()[0]\n",
    "    reviews = company_df['text'].values\n",
    "    \"\"\"\n",
    "    Let's use updated reviews\n",
    "    \n",
    "    \"\"\"\n",
    "    X, words = vectorize_reviews2(reviews)\n",
    "    #print(X,words)\n",
    "    kmeans = KMeans(n_clusters = K)\n",
    "    kmeans.fit(X)\n",
    "    \n",
    "    common_words = kmeans.cluster_centers_.argsort()[:,-1:-num_words-1:-1]\n",
    "    print('Groups of ' + str(num_words) + ' words typically used together in reviews for ' + \\\n",
    "          company_name)\n",
    "    for num, centroid in enumerate(common_words):\n",
    "        print(str(num) + ' : ' + ', '.join(words[word] for word in centroid))"
   ]
  },
  {
   "cell_type": "markdown",
   "metadata": {},
   "source": [
    "### Again random K and num_words with ngram range from 1to 3"
   ]
  },
  {
   "cell_type": "code",
   "execution_count": 25,
   "metadata": {},
   "outputs": [
    {
     "name": "stdout",
     "output_type": "stream",
     "text": [
      "vectorizer output file generated\n",
      "Groups of 12 words typically used together in reviews for \"Mon Ami Gabi\"\n",
      "0 : great food, great servic, food great, waffl, french toast, good food, free, food good, gluten, food servic, love place, sit patio\n",
      "1 : mari, bloodi, bloodi mari, mari bar, bloodi mari bar, waffl, mimosa, hash, sunday, quich, french toast, fun\n",
      "2 : seafood, mussel, hash, goat, goat chees, merlot, meat, bake, thought, group, brie, boyfriend\n"
     ]
    }
   ],
   "source": [
    "print_clusters2(bus_id, K = 3, num_words = 12)\n"
   ]
  },
  {
   "cell_type": "markdown",
   "metadata": {},
   "source": [
    "### K- Means Model Evaluation Quality of Clusters - K-means"
   ]
  },
  {
   "cell_type": "markdown",
   "metadata": {},
   "source": [
    "The K-Means algorithm is one of the fastest clustering algorithms, but also one of the simplest:\n",
    "\n",
    "First initialize  centroids randomly:  distinct instances are chosen randomly from the dataset and the centroids are placed at their locations.\n",
    "Repeat until convergence (i.e., until the centroids stop moving):\n",
    "Assign each instance to the closest centroid.\n",
    "Update the centroids to be the mean of the instances that are assigned to them.\n",
    "The KMeans class applies an optimized algorithm by default. To get the original K-Means algorithm (for educational purposes only), you must set init=\"random\", n_init=1and algorithm=\"full\". These hyperparameters will be explained below.\n",
    "\n"
   ]
  },
  {
   "cell_type": "markdown",
   "metadata": {},
   "source": [
    "We will apply two evaluation methods, Inertia and Silhouette score.\n",
    "\n",
    "Please read the documentation of these two methods:\n",
    "\n",
    "https://scikit-learn.org/stable/modules/clustering.html\n",
    "\n",
    "https://scikit-learn.org/stable/modules/generated/sklearn.metrics.silhouette_score.html\n",
    "\n",
    "Find Optimal k values based on the evaluation."
   ]
  },
  {
   "cell_type": "code",
   "execution_count": 26,
   "metadata": {},
   "outputs": [
    {
     "name": "stdout",
     "output_type": "stream",
     "text": [
      "                   review_id                 user_id             business_id  \\\n",
      "1720  YCzBgTYCyTtPAe2v8_GGKA  CZs1Eq7t1fqpXV1yox-CVg  4JNXUYY8wbaaDmk3BPzlWw   \n",
      "2399  lPf1wwTu9VeWABHDPhu2tA  Zqk-ye_OHeH_sS1JsdsLgg  4JNXUYY8wbaaDmk3BPzlWw   \n",
      "3430  voVb586hGvZC6vUA7HUIIw  RmThjWcv7x5Z_vVuOlRNwQ  4JNXUYY8wbaaDmk3BPzlWw   \n",
      "7921  jipTZe7L20v422d2Di2_Tw  hBl_w9Rmn_Bz0HiMzwaknA  4JNXUYY8wbaaDmk3BPzlWw   \n",
      "8793  D5r-QLswHpnxaMadQdi_dg  eZ5I1bHkdXoGOFKn_oOFFQ  4JNXUYY8wbaaDmk3BPzlWw   \n",
      "\n",
      "      stars        date                                               text  \\\n",
      "1720      4  2017-10-25  Traditional French fare at the heart of the La...   \n",
      "2399      5  2013-10-15  This is my go to place for the last 12 years, ...   \n",
      "3430      2  2017-04-03  Mediocre food for too much money, at least at ...   \n",
      "7921      4  2012-12-26  My family and I had dinner here and the wait w...   \n",
      "8793      5  2015-10-21  Patio dining at its best. Steak au poive with ...   \n",
      "\n",
      "      useful  funny  cool            name  \n",
      "1720       0      0     1  \"Mon Ami Gabi\"  \n",
      "2399       4      0     2  \"Mon Ami Gabi\"  \n",
      "3430       0      0     0  \"Mon Ami Gabi\"  \n",
      "7921       0      0     0  \"Mon Ami Gabi\"  \n",
      "8793       0      0     0  \"Mon Ami Gabi\"  \n"
     ]
    }
   ],
   "source": [
    "print(company_df.head(5))"
   ]
  },
  {
   "cell_type": "markdown",
   "metadata": {},
   "source": [
    "### silhouette_score : to evaluate k-cluster"
   ]
  },
  {
   "cell_type": "code",
   "execution_count": 27,
   "metadata": {},
   "outputs": [
    {
     "name": "stderr",
     "output_type": "stream",
     "text": [
      "/Users/grishptl/opt/anaconda3/lib/python3.9/site-packages/sklearn/feature_extraction/text.py:404: UserWarning: Your stop_words may be inconsistent with your preprocessing. Tokenizing the stop words generated tokens ['abov', 'afterward', 'alon', 'alreadi', 'alway', 'ani', 'anoth', 'anyon', 'anyth', 'anywher', 'becam', 'becaus', 'becom', 'befor', 'besid', 'cri', 'describ', 'dure', 'els', 'elsewher', 'empti', 'everi', 'everyon', 'everyth', 'everywher', 'fifti', 'forti', 'henc', 'hereaft', 'herebi', 'howev', 'hundr', 'inde', 'mani', 'meanwhil', 'moreov', 'nobodi', 'noon', 'noth', 'nowher', 'onc', 'onli', 'otherwis', 'ourselv', 'perhap', 'pleas', 'sever', 'sinc', 'sincer', 'sixti', 'someon', 'someth', 'sometim', 'somewher', 'themselv', 'thenc', 'thereaft', 'therebi', 'therefor', 'togeth', 'twelv', 'twenti', 'veri', 'whatev', 'whenc', 'whenev', 'wherea', 'whereaft', 'wherebi', 'wherev', 'whi', 'yourselv'] not in stop_words.\n",
      "  warnings.warn(\n",
      "/Users/grishptl/opt/anaconda3/lib/python3.9/site-packages/sklearn/utils/deprecation.py:87: FutureWarning: Function get_feature_names is deprecated; get_feature_names is deprecated in 1.0 and will be removed in 1.2. Please use get_feature_names_out instead.\n",
      "  warnings.warn(msg, category=FutureWarning)\n"
     ]
    },
    {
     "name": "stdout",
     "output_type": "stream",
     "text": [
      "vectorizer output file generated\n"
     ]
    },
    {
     "data": {
      "image/png": "[encoded data removed]",
      "text/plain": [
       "<Figure size 432x288 with 1 Axes>"
      ]
     },
     "metadata": {
      "needs_background": "light"
     },
     "output_type": "display_data"
    }
   ],
   "source": [
    "\n",
    "reviews = company_df['text'].values\n",
    "X, words = vectorize_reviews2(reviews)\n",
    "data = X\n",
    "from sklearn import metrics\n",
    "\n",
    "data = X\n",
    "\n",
    "score = {}\n",
    "for k in range(2, 10):\n",
    "    kmeans = KMeans(n_clusters=k, max_iter=1000).fit(data)\n",
    "    labels = kmeans.labels_\n",
    "\n",
    "    score[k] = metrics.silhouette_score(X, labels, metric='euclidean')\n",
    "\n",
    "plt.figure()\n",
    "plt.plot(list(score.keys()), list(score.values()))\n",
    "plt.xlabel(\"Number of cluster\")\n",
    "plt.ylabel(\"Silhouette\")\n",
    "plt.show()\n",
    "\n"
   ]
  }
 ],
 "metadata": {
  "kernelspec": {
   "display_name": "Python 3.9.7 ('base')",
   "language": "python",
   "name": "python3"
  },
  "language_info": {
   "codemirror_mode": {
    "name": "ipython",
    "version": 3
   },
   "file_extension": ".py",
   "mimetype": "text/x-python",
   "name": "python",
   "nbconvert_exporter": "python",
   "pygments_lexer": "ipython3",
   "version": "3.9.7"
  },
  "orig_nbformat": 4,
  "vscode": {
   "interpreter": {
    "hash": "b2d697df7c3ef1b8682aa39792ed254045ea4d32f24950f098611502664b2a4b"
   }
  }
 },
 "nbformat": 4,
 "nbformat_minor": 2
}
